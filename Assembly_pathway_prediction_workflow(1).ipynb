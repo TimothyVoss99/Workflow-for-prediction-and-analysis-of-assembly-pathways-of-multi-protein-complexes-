{
 "cells": [
  {
   "cell_type": "markdown",
   "metadata": {},
   "source": [
    "<a id=\"section_ID_0\"></a>\n",
    "# Workflow for prediction and analysis of assembly pathways of multi-protein complexes"
   ]
  },
  {
   "cell_type": "markdown",
   "metadata": {},
   "source": [
    "\n",
    "\n",
    "\n",
    "## Table of Contents:\n",
    "\n",
    "1. **[Requirements](#section_ID_1)**\n",
    " \n",
    "\n",
    "1. **[Imports](#section_ID_2)**\n",
    "\n",
    "1. **[Prepare Data and Run PTGLgraphComputation (Optional)](#section_ID_3)**\n",
    "    <br>3.1 [Define Options for PTGL](#section_ID_3.3)\n",
    "    <br>3.2 [Run PTGL](#section_ID_3.4)\n",
    "\n",
    "1. **[Implementation of assembly pathway preditction workflow](#section_ID_4)**\n",
    "    <br>4.1 [Method to process the graph to find all labels](#section_ID_4.2)\n",
    "    <br>4.2 [Methods for newick string conversion](#section_ID_4.3)\n",
    "    <br>4.3 [Methods for creation of distance matrix](#section_ID_4.4)\n",
    "    <br>4.4 [Cluster algorithms](#section_ID_4.5)\n",
    "        <br>4.4.1 [Ward linkage clustering](#section_ID_4.5.1)\n",
    "        <br>4.4.2 [Weighted linkage clustering](#section_ID_4.5.2)\n",
    "        <br>4.4.3 [UPGMA clustering](#section_ID_4.5.3)\n",
    "        <br>4.4.4 [Single linkage clustering](#section_ID_4.5.4)\n",
    "        <br>4.4.5 [Weighted Linkage clustering](#section_ID_4.5.5)\n",
    "    <br>4.5 [Preprocessing](#section_ID_4.6)\n",
    "    <br>4.6 [Clustering](#section_ID_4.6)\n"
   ]
  },
  {
   "cell_type": "markdown",
   "metadata": {
    "id": "WVyTlVORV6RO"
   },
   "source": [
    " \n",
    "<a id=\"section_ID_1\"></a>\n",
    "## 1. Requirements\n",
    "\n",
    "- igraph\n",
    "- scipy\n",
    "- numpy\n",
    "- matplot\n",
    "- We used PTGL (optional) for the graph computation:  \n",
    "    - DSSP files (can be loaded from https://pdb-redo.eu/dssp)\n",
    "    -  .cif file of the multi-protein complex "
   ]
  },
  {
   "cell_type": "markdown",
   "metadata": {},
   "source": [
    "<a id=\"section_ID_2\"></a>\n",
    "## 2. Imports"
   ]
  },
  {
   "cell_type": "code",
   "execution_count": null,
   "metadata": {
    "colab": {
     "base_uri": "https://localhost:8080/"
    },
    "id": "dPMH8dt5SwoT",
    "outputId": "52e1f504-426f-4a2b-9cf3-c5a6237e58f9"
   },
   "outputs": [],
   "source": [
    "import scipy.cluster.hierarchy as sch\n",
    "from scipy.spatial.distance import pdist, squareform\n",
    "import igraph as ig\n",
    "import matplotlib.pyplot as plt\n",
    "import numpy as np\n",
    "# Optional\n",
    "from io import StringIO \n",
    "import os \n",
    "from generalFunctions import download_pdb, createLayout, modifyLayoutPosition\n",
    "import shutil\n",
    "import pickle\n",
    "import warnings\n",
    "import subprocess"
   ]
  },
  {
   "cell_type": "markdown",
   "metadata": {},
   "source": [
    "<a id=\"section_ID_3\"></a>\n",
    "## 3. Prepare data and run PTGLgraphComputation (optional)"
   ]
  },
  {
   "cell_type": "markdown",
   "metadata": {},
   "source": [
    "<div class=\"alert alert-block alert-info\"><b>This example notebook is provided with the required files for all steps and will also run if no PTGL software is available.</b><br>Set variables to False to run the example without installing PTGL, and DSSP software. Set to True and provide the paths if the software is available. In this case procede with the protein graph at 4.1</div>"
   ]
  },
  {
   "cell_type": "markdown",
   "metadata": {},
   "source": [
    "<a id=\"section_ID_3.3\"></a>\n",
    "### 3.1 Define options for PTGL"
   ]
  },
  {
   "cell_type": "markdown",
   "metadata": {},
   "source": [
    "use pdb_id to set the pdb_id of the structure of interesst "
   ]
  },
  {
   "cell_type": "code",
   "execution_count": null,
   "metadata": {},
   "outputs": [],
   "source": [
    "pdb_id = \"here id\"\n",
    "base_dir = os.getcwd()\n",
    "\n",
    "# Zielverzeichnis: \\PTGLtools\\PTGLgraphComputation\\dist\n",
    "ptgl_dir = os.path.join(base_dir, 'PTGLtools', 'PTGLgraphComputation', 'dist')\n",
    "output_dir = os.path.join(base_dir, \"ptgl_output\")\n",
    "output_dir\n",
    "    # Definiere den Befehl\n",
    "command = [\n",
    "        \"java\", \n",
    "        \"-jar\", \n",
    "        \"PTGLgraphComputation.jar\", \n",
    "        pdb_id, \n",
    "        \"-d\",\n",
    "        pdb_id+\".cif\",\n",
    "        \"-G\", \n",
    "        \"-o\",\n",
    "        output_dir,\n",
    "        \"--silent\"\n",
    "    ]\n",
    "\n"
   ]
  },
  {
   "cell_type": "markdown",
   "metadata": {},
   "source": [
    "<a id=\"section_ID_3.4\"></a>\n",
    "### 3.2 Run PTGL"
   ]
  },
  {
   "cell_type": "code",
   "execution_count": null,
   "metadata": {},
   "outputs": [],
   "source": [
    "try:\n",
    "    # Wechsle ins Zielverzeichnis und führe den Befehl aus\n",
    "    result = subprocess.run(command, cwd=ptgl_dir, capture_output=True, text=True)\n",
    "    # Gib die Ausgabe des Befehls aus\n",
    "    print(\"Kommando-Ausgabe:\")\n",
    "    print(result.stdout)\n",
    "    print(\"Fehler (falls vorhanden):\")\n",
    "    print(result.stderr)\n",
    "except Exception as e:\n",
    "    print(f\"Ein Fehler ist aufgetreten: {e}\")"
   ]
  },
  {
   "cell_type": "markdown",
   "metadata": {},
   "source": [
    "<a id=\"section_ID_4\"></a>\n",
    "## 4. Implementation of the assembly pathway prediction workflow "
   ]
  },
  {
   "cell_type": "markdown",
   "metadata": {
    "id": "zt0krm--dRWc"
   },
   "source": [
    "<a id=\"section_ID_4.2\"></a>\n",
    "### 4.1 Method to process the graph to find all labels"
   ]
  },
  {
   "cell_type": "code",
   "execution_count": null,
   "metadata": {},
   "outputs": [],
   "source": [
    "graph_file: str = f\"{output_dir}/\"+pdb_id+\"_complex_chains_albelig_CG.gml\"\n",
    "complex_graph = ig.Graph.Read_GML(graph_file)\n",
    "ig.summary(complex_graph)"
   ]
  },
  {
   "cell_type": "code",
   "execution_count": null,
   "metadata": {
    "id": "Kgre9zf0dRCi"
   },
   "outputs": [],
   "source": [
    "def get_labels(complex_graph):\n",
    "    \"\"\"\n",
    "    Finds all labels for the vertices\n",
    "\n",
    "    :param complex_graph: graph file in gml format\n",
    "    :returns: list with labels\n",
    "    \"\"\"\n",
    "    nodes = complex_graph.vs\n",
    "    labels = nodes[\"label\"]\n",
    "    return labels"
   ]
  },
  {
   "cell_type": "markdown",
   "metadata": {
    "id": "TyQE8-YU6QYq"
   },
   "source": [
    "<a id=\"section_ID_4.3\"></a>\n",
    "### 4.2 Methods for newick string conversion"
   ]
  },
  {
   "cell_type": "code",
   "execution_count": null,
   "metadata": {
    "id": "RMDsq5csTd_f"
   },
   "outputs": [],
   "source": [
    "def get_newick(node, parent_dist, leaf_names):\n",
    "    \"\"\"\n",
    "    Convert sciply.cluster.hierarchy.to_tree()-output to Newick format.\n",
    "\n",
    "    :param node: output of sciply.cluster.hierarchy.to_tree()\n",
    "    :param parent_dist: output of sciply.cluster.hierarchy.to_tree().dist\n",
    "    :param leaf_names: list of leaf names\n",
    "    :returns: tree in Newick format\n",
    "    \"\"\"\n",
    "    if node.is_leaf():\n",
    "        return leaf_names[node.id]\n",
    "    left_newick = get_newick(node.get_left(), node.dist, leaf_names)\n",
    "    right_newick = get_newick(node.get_right(), node.dist, leaf_names)\n",
    "    return f\"({left_newick},{right_newick}):{parent_dist}\"\n",
    "\n",
    "\n",
    "def newick_parameters(linkage_matrix, labels):\n",
    "    \"\"\" \n",
    "    Convert a given linkage matrix from scipy to a newick string\n",
    "    \n",
    "    :param: linkage_matrix\n",
    "    :returns: linkage matrix as newick string \n",
    "    \"\"\"\n",
    "    tree = sch.to_tree(linkage_matrix)\n",
    "    newick = get_newick(tree, tree.dist, labels)\n",
    "    return f\"({newick});\""
   ]
  },
  {
   "cell_type": "markdown",
   "metadata": {
    "id": "ctkXUz-GV5Sl"
   },
   "source": [
    "<a id=\"section_ID_4.4\"></a>\n",
    "### 4.3 Method for creation of distance matrix"
   ]
  },
  {
   "cell_type": "code",
   "execution_count": null,
   "metadata": {},
   "outputs": [],
   "source": [
    "def create_distance_matrix(complex_graph):\n",
    "    \"\"\" \n",
    "    Reads in the complex graph and returns the condensed distance matrix \n",
    "    \n",
    "    :param: complex_graph: graph saved as object from igraph libary \n",
    "    :returns: condensed_matrix \n",
    "    \"\"\"\n",
    "    adj_matrix_absw = complex_graph.get_adjacency(attribute=\"absoluteWeight\")\n",
    "    adj_array_absw_list = np.array(adj_matrix_absw.data)\n",
    "    # Calculates the distance matrix\n",
    "    max_value = np.max(adj_array_absw_list)\n",
    "    dist_matrix = -1 * (adj_array_absw_list - max_value) / max_value\n",
    "    np.fill_diagonal(dist_matrix, 0)\n",
    "    # Calculates the condensed distance matrix\n",
    "    condensed_matrix = squareform(dist_matrix)\n",
    "    print(condensed_matrix)\n",
    "    return condensed_matrix\n",
    "    "
   ]
  },
  {
   "cell_type": "markdown",
   "metadata": {},
   "source": [
    "<a id=\"section_ID_4.5\"></a>\n",
    "### 4.4 Cluster algorithms"
   ]
  },
  {
   "cell_type": "markdown",
   "metadata": {
    "id": "mOzC_JRJYrbg"
   },
   "source": [
    "<a id=\"section_ID_4.5.1\"></a>\n",
    "#### 4.4.1 Ward linkage Clustering "
   ]
  },
  {
   "cell_type": "code",
   "execution_count": null,
   "metadata": {
    "colab": {
     "base_uri": "https://localhost:8080/",
     "height": 407
    },
    "id": "uTKzF5U0n9Hu",
    "outputId": "3f43c04e-85e5-4d57-e56f-b1f7b8090ebb"
   },
   "outputs": [],
   "source": [
    "def ward_linkage_clustering(condensed_matrix):\n",
    "    \"\"\" \n",
    "    Reads in the condensed distance matrix and creates tthe tre clustered with ward-linkage\n",
    "    \n",
    "    :param: condensed_matrix: condensed distance matrix saved as numpy array \n",
    "    :returns: ns_ward_absw: contains the tree as newick string  \n",
    "    \"\"\"\n",
    "    ward_linkage_matrix = sch.linkage(condensed_matrix, method=\"ward\", metric='euclidean', optimal_ordering=True)\n",
    "\n",
    "    fig = plt.figure(figsize=(10, 5))\n",
    "    fig.suptitle(\"absolute weight ward linkage\", fontsize=16)\n",
    "    dn = sch.dendrogram(ward_linkage_matrix, labels = labels)\n",
    "    ns_ward_absw = newick_parameters(ward_linkage_matrix, labels)\n",
    "    return ns_ward_absw\n"
   ]
  },
  {
   "cell_type": "markdown",
   "metadata": {},
   "source": [
    "#### <a id=\"section_ID_4.5.2\"></a>\n",
    "#### 4.4.2 Weighted linkage Clustering"
   ]
  },
  {
   "cell_type": "code",
   "execution_count": null,
   "metadata": {
    "colab": {
     "base_uri": "https://localhost:8080/",
     "height": 407
    },
    "id": "5Qt7eCp1Bcg6",
    "outputId": "be8578c4-e99a-4802-cd47-6df269d7d7d6"
   },
   "outputs": [],
   "source": [
    "def weighted_linkage_clustering(condensed_matrix):\n",
    "    \"\"\" \n",
    "    Reads in the condensed distance matrix and creates the tree clusterd with weighted-linkage \n",
    "    \n",
    "    :param: condensed_matrix: condensed distance matrix saved as numpy array \n",
    "    :returns: ns_weighted_absw: contains the tree as newick string  \n",
    "    \"\"\"\n",
    "    weighted_linkage_matrix = sch.linkage(condensed_matrix, method=\"weighted\", metric='euclidean', optimal_ordering=True)\n",
    "    \n",
    "    fig= plt.figure(figsize=(10, 5))\n",
    "    #plt.grid(axis='y')\n",
    "    #plt.yticks(np.arange(0, 1.1, 0.05))\n",
    "    fig.suptitle(\"absolute weighted linkage\", fontsize=16)\n",
    "    dn = sch.dendrogram(weighted_linkage_matrix, labels = labels)\n",
    "    ns_weighted_absw = newick_parameters(weighted_linkage_matrix, labels)\n",
    "    return ns_weighted_absw\n"
   ]
  },
  {
   "cell_type": "markdown",
   "metadata": {},
   "source": [
    "<a id=\"section_ID_4.5.3\"></a>\n",
    "#### 4.4.3 UPGMA linkage Clustering"
   ]
  },
  {
   "cell_type": "code",
   "execution_count": null,
   "metadata": {
    "colab": {
     "base_uri": "https://localhost:8080/",
     "height": 407
    },
    "id": "0KGSEoxcCBb3",
    "outputId": "e890edce-c590-4991-b389-abb61301b5a7"
   },
   "outputs": [],
   "source": [
    "def UPGMA_linkage_clustering(condensed_matrix):\n",
    "    \"\"\" \n",
    "    Reads in the condensed distance matrix and creates the tree clustered with UPGMA\n",
    "    \n",
    "    :param: condensed_matrix: condensed distance matrix saved as numpy array \n",
    "    :returns: ns_UPGMA_absw: contains the tree as newick string  \n",
    "    \"\"\"\n",
    "    UPGMA_linkage_matrix = sch.linkage(condensed_matrix, method=\"average\", metric='euclidean', optimal_ordering=True)\n",
    "\n",
    "    fig = plt.figure(figsize=(10, 5))\n",
    "    fig.suptitle(\"absolute weight UPGMA\", fontsize=16)\n",
    "    dn = sch.dendrogram(UPGMA_linkage_matrix, labels = labels)\n",
    "    ns_UPGMA_absw = newick_parameters(UPGMA_linkage_matrix, labels)\n",
    "    return ns_UPGMA_absw"
   ]
  },
  {
   "cell_type": "markdown",
   "metadata": {},
   "source": [
    "<a id=\"section_ID_4.5.4\"></a>\n",
    "#### 4.4.4 Single linkage Clustering"
   ]
  },
  {
   "cell_type": "code",
   "execution_count": null,
   "metadata": {},
   "outputs": [],
   "source": [
    "def single_linkage_clustering(condensed_matrix):\n",
    "    \"\"\" \n",
    "    Reads in the condensed distance matrix and creates the tree clustered with single-linkage\n",
    "    \n",
    "    :param: condensed_matrix: condensed distance matrix saved as numpy array \n",
    "    :returns: ns_single_absw: contains the tree as newick string  \n",
    "    \"\"\"\n",
    "    single_linkage_matrix = sch.linkage(condensed_matrix, method=\"single\", metric='euclidean', optimal_ordering=True)\n",
    "\n",
    "    fig = plt.figure(figsize=(10, 5))\n",
    "    fig.suptitle(\"absolute single linkage\", fontsize=16)\n",
    "    dn = sch.dendrogram(single_linkage_matrix, labels = labels)\n",
    "    ns_single_absw = newick_parameters(single_linkage_matrix, labels)\n",
    "    return ns_single_absw"
   ]
  },
  {
   "cell_type": "markdown",
   "metadata": {},
   "source": [
    "<a id=\"section_ID_4.5.5\"></a>\n",
    "#### 4.4.5 Complete linkage Clustering"
   ]
  },
  {
   "cell_type": "code",
   "execution_count": null,
   "metadata": {},
   "outputs": [],
   "source": [
    "def complete_linkage_clustering(condensed_matrix):\n",
    "    \"\"\" \n",
    "    Reads in the condensed distance matrix and creates the tree clustered with UPGMA\n",
    "    \n",
    "    :param: condensed_matrix: condensed distance matrix saved as numpy array \n",
    "    :returns: ns_complete_absw: contains the tree as newick string  \n",
    "    \"\"\"\n",
    "    complete_linkage_matrix = sch.linkage(condensed_matrix, method=\"complete\", metric='euclidean', optimal_ordering=True)\n",
    "\n",
    "    fig = plt.figure(figsize=(10, 5))\n",
    "    fig.suptitle(\"absolute complete linkage\", fontsize=16)\n",
    "    dn = sch.dendrogram(complete_linkage_matrix, labels = labels)\n",
    "    ns_complete_absw = newick_parameters(complete_linkage_matrix, labels)\n",
    "    return ns_complete_absw"
   ]
  },
  {
   "cell_type": "markdown",
   "metadata": {},
   "source": [
    "<a id=\"section_ID_4.6\"></a>\n",
    "### 4.5 Preprocessing\n"
   ]
  },
  {
   "cell_type": "code",
   "execution_count": null,
   "metadata": {},
   "outputs": [],
   "source": [
    "# uses method get_labels to save the labels in list labels\n",
    "labels = get_labels(complex_graph)\n",
    "\n",
    "# uses method create_distance_matrix() to create the condesned distance matrix and saves as numpay array condensed_matrix\n",
    "condensed_matrix = create_distance_matrix(complex_graph)"
   ]
  },
  {
   "cell_type": "markdown",
   "metadata": {},
   "source": [
    "<a id=\"section_ID_4.7\"></a>\n",
    "### 4.6 Clustering"
   ]
  },
  {
   "cell_type": "markdown",
   "metadata": {},
   "source": [
    "<div class=\"alert alert-block alert-info\"><b>This notebook contains different clustering algorithms to calculate different possible assembling pathways.</b><br>While testing weighted-linkage has proven to bring the most accurate results.</div>"
   ]
  },
  {
   "cell_type": "code",
   "execution_count": null,
   "metadata": {},
   "outputs": [],
   "source": [
    "# uses method ward_linkage_custering() to cluster the matrix and saves the clustering as newick string \n",
    "ward_linkage = ward_linkage_clustering(condensed_matrix)\n",
    "\n",
    "# uses method wweighted_linkage_clustering() to cluster the matrix and saves the clustering as newick string \n",
    "weighted_linkage = weighted_linkage_clustering(condensed_matrix)\n",
    "\n",
    "# uses method UPGMA_linkage_clustering() to cluster the matrix and saves the clustering as newick string \n",
    "UPGMA_linkage = UPGMA_linkage_clustering(condensed_matrix)\n",
    "\n",
    "# uses method single_linkage_clustering() to cluster the matrix and saves the clustering as newick string \n",
    "single_linkage = single_linkage_clustering(condensed_matrix)\n",
    "\n",
    "# uses method complete_linkage_clustering() to cluster the matrix and saves the clustering as newick string \n",
    "complete_linkage = complete_linkage_clustering(condensed_matrix)"
   ]
  },
  {
   "cell_type": "code",
   "execution_count": null,
   "metadata": {},
   "outputs": [],
   "source": [
    "UPGMA_linkage"
   ]
  },
  {
   "cell_type": "code",
   "execution_count": null,
   "metadata": {},
   "outputs": [],
   "source": [
    "weighted_linkage"
   ]
  },
  {
   "cell_type": "code",
   "execution_count": null,
   "metadata": {},
   "outputs": [],
   "source": [
    "ward_linkage"
   ]
  },
  {
   "cell_type": "code",
   "execution_count": null,
   "metadata": {},
   "outputs": [],
   "source": [
    "single_linkage"
   ]
  },
  {
   "cell_type": "code",
   "execution_count": null,
   "metadata": {},
   "outputs": [],
   "source": [
    "complete_linkage"
   ]
  },
  {
   "cell_type": "code",
   "execution_count": null,
   "metadata": {},
   "outputs": [],
   "source": []
  }
 ],
 "metadata": {
  "colab": {
   "provenance": []
  },
  "kernelspec": {
   "display_name": "Python [conda env:base] *",
   "language": "python",
   "name": "conda-base-py"
  },
  "language_info": {
   "codemirror_mode": {
    "name": "ipython",
    "version": 3
   },
   "file_extension": ".py",
   "mimetype": "text/x-python",
   "name": "python",
   "nbconvert_exporter": "python",
   "pygments_lexer": "ipython3",
   "version": "3.12.7"
  }
 },
 "nbformat": 4,
 "nbformat_minor": 4
}
